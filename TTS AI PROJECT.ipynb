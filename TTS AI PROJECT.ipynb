{
 "cells": [
  {
   "cell_type": "code",
   "execution_count": 1,
   "id": "7b3904a3",
   "metadata": {},
   "outputs": [],
   "source": [
    "import tkinter as tk\n",
    "from tkinter import *\n",
    "from tkinter import filedialog\n",
    "from tkinter.ttk import Combobox\n",
    "import pyttsx3\n",
    "import os\n",
    "from gtts import gTTS"
   ]
  },
  {
   "cell_type": "code",
   "execution_count": 2,
   "id": "9cc123d3",
   "metadata": {},
   "outputs": [],
   "source": [
    "root = Tk()\n",
    "root.title(\"Simplelearn Text to Speech converter\")\n",
    "root.geometry(\"1000x580+200+80\")\n",
    "root.resizable(False,False)\n",
    "root.configure(bg=\"#F7AC40\")\n",
    "#root.mainloop()"
   ]
  },
  {
   "cell_type": "code",
   "execution_count": null,
   "id": "239e4269",
   "metadata": {},
   "outputs": [],
   "source": []
  },
  {
   "cell_type": "code",
   "execution_count": 3,
   "id": "b0095a28",
   "metadata": {},
   "outputs": [],
   "source": [
    "tts = pyttsx3.init()\n",
    "\n",
    "def speaknow():\n",
    "    text = text_box.get(\"1.0\", \"end-1c\")\n",
    "    gender = gender_box.get()\n",
    "    speed = speed_box.get()\n",
    "\n",
    "    \n",
    "    voices = tts.getProperty('voices')\n",
    "\n",
    "    \n",
    "    selected_voice = None\n",
    "    for voice in voices:\n",
    "        if gender.lower() in voice.name.lower():\n",
    "            selected_voice = voice.id\n",
    "            break\n",
    "\n",
    "    if selected_voice:\n",
    "        tts.setProperty('voice', selected_voice)\n",
    "    elif gender.lower() == 'male':\n",
    "        selected_voice = voices[0].id  \n",
    "        tts.setProperty('voice', selected_voice)\n",
    "    elif gender.lower() == 'female':\n",
    "        selected_voice = voices[1].id  \n",
    "        tts.setProperty('voice', selected_voice)\n",
    "\n",
    "    \n",
    "    if speed == 'Fast':\n",
    "        tts.setProperty('rate', 250)\n",
    "    elif speed == 'Medium':\n",
    "        tts.setProperty('rate', 150)\n",
    "    else:\n",
    "        tts.setProperty('rate', 60)\n",
    "\n",
    "    \n",
    "    tts.say(text)\n",
    "    tts.runAndWait()\n",
    "\n",
    "\n"
   ]
  },
  {
   "cell_type": "code",
   "execution_count": 4,
   "id": "bb8baf52",
   "metadata": {},
   "outputs": [],
   "source": [
    "#simpli_logo = PhotoImage(file =\"C:/Users/user/OneDrive/Desktop/Speech-Recognition.png\")\n",
    "#Label(root,image = simpli_logo,bg=\"#F7AC40\").place(x=880,y=530)"
   ]
  },
  {
   "cell_type": "code",
   "execution_count": 5,
   "id": "35b32739",
   "metadata": {},
   "outputs": [],
   "source": [
    "logo_image = PhotoImage(file = \"C:/Users/user/Downloads/text-to-speech.png\")\n",
    "root.iconphoto(False,logo_image)\n",
    "\n"
   ]
  },
  {
   "cell_type": "code",
   "execution_count": 6,
   "id": "2e5c83c9",
   "metadata": {},
   "outputs": [],
   "source": [
    "upper_frame = Frame(root,bg=\"#14A7DD\",width = 1200, height = 130)\n",
    "upper_frame.place(x=0, y=0)\n",
    "\n",
    "picture = PhotoImage(file =\"C:/Users/user/OneDrive/Desktop/download.png\")\n",
    "Label(upper_frame, image = picture, bg=\"#14A7DD\").place(x=150, y= 20)\n",
    "\n"
   ]
  },
  {
   "cell_type": "code",
   "execution_count": 7,
   "id": "c64d5689",
   "metadata": {},
   "outputs": [],
   "source": [
    "Label(upper_frame,text= \"Text To Speech Converter\",font=\"TimesNewroman 40 bold\",bg=\"#14A7DD\",fg='white').place(x=250,y=35)\n"
   ]
  },
  {
   "cell_type": "code",
   "execution_count": 8,
   "id": "81786d8b",
   "metadata": {},
   "outputs": [],
   "source": [
    "text_box = Text (root, font=\"calibri 20\",bg=\"white\", relief = GROOVE,wrap=WORD,bd=0)\n",
    "text_box.place(x=30,y=150,width=940,height=180)\n"
   ]
  },
  {
   "cell_type": "code",
   "execution_count": 9,
   "id": "d2f4770a",
   "metadata": {},
   "outputs": [],
   "source": [
    "gender_box = Combobox(root,values=['Male', 'Female',],font = \"Robote 12\", state='r',width=12)\n",
    "gender_box.place(x=340,y=400)\n",
    "gender_box.set('Male')\n"
   ]
  },
  {
   "cell_type": "code",
   "execution_count": 10,
   "id": "66ea97b0",
   "metadata": {},
   "outputs": [],
   "source": [
    "speed_box = Combobox(root,values=['Fast', 'Medium', 'Slow '],font = \"Robote 12\", state='r',width=12)\n",
    "speed_box.place(x=540,y=400)\n",
    "speed_box.set('Medium')\n"
   ]
  },
  {
   "cell_type": "code",
   "execution_count": 11,
   "id": "318c156c",
   "metadata": {},
   "outputs": [],
   "source": [
    "Label(root,text=\"Select Voice\", font= 'TimesNewRoman 15 bold',bg=\"#F7AC40\",fg=\"White\").place(x=340,y=370)\n",
    "Label(root,text=\"Select Speed\", font= 'TimesNewRoman 15 bold',bg=\"#F7AC40\",fg=\"White\").place(x=540,y=370)\n"
   ]
  },
  {
   "cell_type": "code",
   "execution_count": 12,
   "id": "417e357c",
   "metadata": {},
   "outputs": [],
   "source": [
    "play_button=PhotoImage(file=\"C:/Users/user/Downloads/playbutton.png\")\n",
    "play_btn = Button(root,text=\"Play\",compound = LEFT,image=play_button,bg=\"black\",width =130,font=\"arial 14 bold\",borderwidth= '0.1c',command= speaknow)\n",
    "play_btn.place(x=435,y=450)\n",
    "root.mainloop()"
   ]
  },
  {
   "cell_type": "code",
   "execution_count": null,
   "id": "9bc5a97f",
   "metadata": {},
   "outputs": [],
   "source": []
  }
 ],
 "metadata": {
  "kernelspec": {
   "display_name": "Python 3 (ipykernel)",
   "language": "python",
   "name": "python3"
  },
  "language_info": {
   "codemirror_mode": {
    "name": "ipython",
    "version": 3
   },
   "file_extension": ".py",
   "mimetype": "text/x-python",
   "name": "python",
   "nbconvert_exporter": "python",
   "pygments_lexer": "ipython3",
   "version": "3.9.13"
  }
 },
 "nbformat": 4,
 "nbformat_minor": 5
}
